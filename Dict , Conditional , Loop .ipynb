{
 "cells": [
  {
   "cell_type": "code",
   "execution_count": 1,
   "id": "62882b36-29f4-469d-b2da-76703153d3d7",
   "metadata": {},
   "outputs": [],
   "source": [
    "d={}"
   ]
  },
  {
   "cell_type": "code",
   "execution_count": 2,
   "id": "66d622e7-4a52-4c99-a0aa-ffb726a58135",
   "metadata": {},
   "outputs": [
    {
     "data": {
      "text/plain": [
       "dict"
      ]
     },
     "execution_count": 2,
     "metadata": {},
     "output_type": "execute_result"
    }
   ],
   "source": [
    "type(d)"
   ]
  },
  {
   "cell_type": "code",
   "execution_count": 3,
   "id": "ee25e5bd-7338-4449-aa1f-823d52535c0f",
   "metadata": {},
   "outputs": [],
   "source": [
    "#linear element is set and we are assign that by deafult dict"
   ]
  },
  {
   "cell_type": "code",
   "execution_count": 6,
   "id": "d199f2f6-a8cb-4362-9d64-cfd3716ad904",
   "metadata": {},
   "outputs": [],
   "source": [
    "d1 = {'key' : \"sahil\"} #key = word and sahil = meaning "
   ]
  },
  {
   "cell_type": "code",
   "execution_count": 7,
   "id": "603c3a90-71a3-449d-8b31-47a2dad68af9",
   "metadata": {},
   "outputs": [],
   "source": [
    "# key ki jagah kuch bhi likh sakte hai "
   ]
  },
  {
   "cell_type": "code",
   "execution_count": 8,
   "id": "8a42c899-3c0e-48f6-b0ba-2bfc51b04149",
   "metadata": {},
   "outputs": [
    {
     "data": {
      "text/plain": [
       "{'key': 'sahil'}"
      ]
     },
     "execution_count": 8,
     "metadata": {},
     "output_type": "execute_result"
    }
   ],
   "source": [
    "d1"
   ]
  },
  {
   "cell_type": "code",
   "execution_count": 18,
   "id": "150bc3c4-3920-41df-ac98-60aad53d3c7e",
   "metadata": {},
   "outputs": [],
   "source": [
    "d2 = { 'name ' : \"sahil\"  , 'email' : \"sahilpatelshp4@gmail.com\" , \"number\" : 4324 }"
   ]
  },
  {
   "cell_type": "code",
   "execution_count": 19,
   "id": "f22f7d1b-ac2a-41fa-b862-6d5e756a7768",
   "metadata": {},
   "outputs": [
    {
     "data": {
      "text/plain": [
       "{'name ': 'sahil', 'email': 'sahilpatelshp4@gmail.com', 'number': 4324}"
      ]
     },
     "execution_count": 19,
     "metadata": {},
     "output_type": "execute_result"
    }
   ],
   "source": [
    "d2"
   ]
  },
  {
   "cell_type": "code",
   "execution_count": 20,
   "id": "10ebc60e-8e26-4d3e-8e3e-93ff7ba9e59c",
   "metadata": {},
   "outputs": [
    {
     "ename": "SyntaxError",
     "evalue": "invalid syntax (2733257644.py, line 1)",
     "output_type": "error",
     "traceback": [
      "\u001b[0;36m  Cell \u001b[0;32mIn[20], line 1\u001b[0;36m\u001b[0m\n\u001b[0;31m    d3 = { 2324 :\"sahil\" , @ : $%#fv\u001b[0m\n\u001b[0m                           ^\u001b[0m\n\u001b[0;31mSyntaxError\u001b[0m\u001b[0;31m:\u001b[0m invalid syntax\n"
     ]
    }
   ],
   "source": [
    "d3 = { 2324 :\"sahil\" , @ : $%#fv"
   ]
  },
  {
   "cell_type": "code",
   "execution_count": 21,
   "id": "8a86db0d-f71f-4757-8162-1eb4dad02868",
   "metadata": {},
   "outputs": [],
   "source": [
    "# but we are use in string special charcter"
   ]
  },
  {
   "cell_type": "code",
   "execution_count": 22,
   "id": "ef086dd5-bfd3-4e25-beda-ad2ebdb46e06",
   "metadata": {},
   "outputs": [],
   "source": [
    "d4 = { 234 : \"sahil\" , '_wer' : \"patel\" , True :34}"
   ]
  },
  {
   "cell_type": "code",
   "execution_count": 23,
   "id": "a2c2312a-cd43-4588-8a85-a3220c185c88",
   "metadata": {},
   "outputs": [
    {
     "data": {
      "text/plain": [
       "{234: 'sahil', '_wer': 'patel', True: 34}"
      ]
     },
     "execution_count": 23,
     "metadata": {},
     "output_type": "execute_result"
    }
   ],
   "source": [
    "d4"
   ]
  },
  {
   "cell_type": "code",
   "execution_count": 26,
   "id": "74dec99e-419c-438c-8171-cea0dc869908",
   "metadata": {},
   "outputs": [
    {
     "data": {
      "text/plain": [
       "'sahil'"
      ]
     },
     "execution_count": 26,
     "metadata": {},
     "output_type": "execute_result"
    }
   ],
   "source": [
    "d4[234]"
   ]
  },
  {
   "cell_type": "code",
   "execution_count": 28,
   "id": "898a5e4a-6d38-4154-86a6-0b43d652c5d0",
   "metadata": {},
   "outputs": [
    {
     "data": {
      "text/plain": [
       "'patel'"
      ]
     },
     "execution_count": 28,
     "metadata": {},
     "output_type": "execute_result"
    }
   ],
   "source": [
    "d4['_wer']"
   ]
  },
  {
   "cell_type": "code",
   "execution_count": 29,
   "id": "3e4cfa9a-5c1c-48f7-82d7-bfc364cf582c",
   "metadata": {},
   "outputs": [
    {
     "ename": "NameError",
     "evalue": "name 'd3' is not defined",
     "output_type": "error",
     "traceback": [
      "\u001b[0;31m---------------------------------------------------------------------------\u001b[0m",
      "\u001b[0;31mNameError\u001b[0m                                 Traceback (most recent call last)",
      "Cell \u001b[0;32mIn[29], line 1\u001b[0m\n\u001b[0;32m----> 1\u001b[0m \u001b[43md3\u001b[49m[\u001b[38;5;241m2\u001b[39m]\n",
      "\u001b[0;31mNameError\u001b[0m: name 'd3' is not defined"
     ]
    }
   ],
   "source": [
    "d3[2]"
   ]
  },
  {
   "cell_type": "code",
   "execution_count": 30,
   "id": "d02d6059-f71d-463e-8ec7-89a12877a928",
   "metadata": {},
   "outputs": [
    {
     "ename": "NameError",
     "evalue": "name 'd3' is not defined",
     "output_type": "error",
     "traceback": [
      "\u001b[0;31m---------------------------------------------------------------------------\u001b[0m",
      "\u001b[0;31mNameError\u001b[0m                                 Traceback (most recent call last)",
      "Cell \u001b[0;32mIn[30], line 1\u001b[0m\n\u001b[0;32m----> 1\u001b[0m \u001b[43md3\u001b[49m[\u001b[38;5;241m1\u001b[39m]\n",
      "\u001b[0;31mNameError\u001b[0m: name 'd3' is not defined"
     ]
    }
   ],
   "source": [
    "d3[1]"
   ]
  },
  {
   "cell_type": "code",
   "execution_count": 31,
   "id": "abaae8ef-b149-4b17-9742-162f72d1a5b4",
   "metadata": {},
   "outputs": [
    {
     "data": {
      "text/plain": [
       "34"
      ]
     },
     "execution_count": 31,
     "metadata": {},
     "output_type": "execute_result"
    }
   ],
   "source": [
    "d4[1]"
   ]
  },
  {
   "cell_type": "code",
   "execution_count": 32,
   "id": "387b6ddd-fdf0-4a1b-9503-99f160ba5f93",
   "metadata": {},
   "outputs": [],
   "source": [
    "d5 = { 'name' : \"sahil\" , 'mail_id': \"sahilpatelshp4@gmail.com\" ,'name ': \"sahil09\" }"
   ]
  },
  {
   "cell_type": "code",
   "execution_count": 33,
   "id": "11767d98-b8c2-4c3b-a7a0-328d92ab6484",
   "metadata": {},
   "outputs": [
    {
     "data": {
      "text/plain": [
       "{'name': 'sahil', 'mail_id': 'sahilpatelshp4@gmail.com', 'name ': 'sahil09'}"
      ]
     },
     "execution_count": 33,
     "metadata": {},
     "output_type": "execute_result"
    }
   ],
   "source": [
    "d5"
   ]
  },
  {
   "cell_type": "code",
   "execution_count": 34,
   "id": "d51f6dcd-5c04-4318-852b-5a6fc7fdc967",
   "metadata": {},
   "outputs": [
    {
     "data": {
      "text/plain": [
       "'sahil'"
      ]
     },
     "execution_count": 34,
     "metadata": {},
     "output_type": "execute_result"
    }
   ],
   "source": [
    "d5['name']"
   ]
  },
  {
   "cell_type": "code",
   "execution_count": 48,
   "id": "b290d013-ae23-4e46-aef8-acf07cf89759",
   "metadata": {},
   "outputs": [],
   "source": [
    "d6 = {\" number \":[ 24 ,43 ,43 ,435 ,53 ,536 ] ,\"assignment \": (24 ,53 ,45 ,53 ,64) , \"lanuch date\" : {24 ,53 ,56} }"
   ]
  },
  {
   "cell_type": "code",
   "execution_count": 49,
   "id": "6edd43f7-0783-4439-8335-329273757481",
   "metadata": {
    "tags": []
   },
   "outputs": [
    {
     "data": {
      "text/plain": [
       "{' number ': [24, 43, 43, 435, 53, 536],\n",
       " 'assignment ': (24, 53, 45, 53, 64),\n",
       " 'lanuch date': {24, 53, 56}}"
      ]
     },
     "execution_count": 49,
     "metadata": {},
     "output_type": "execute_result"
    }
   ],
   "source": [
    "d6"
   ]
  },
  {
   "cell_type": "code",
   "execution_count": 38,
   "id": "91289e6f-d11f-4823-a6d4-250440b9c0e5",
   "metadata": {},
   "outputs": [
    {
     "ename": "TypeError",
     "evalue": "unsupported operand type(s) for +: 'dict' and 'dict'",
     "output_type": "error",
     "traceback": [
      "\u001b[0;31m---------------------------------------------------------------------------\u001b[0m",
      "\u001b[0;31mTypeError\u001b[0m                                 Traceback (most recent call last)",
      "Cell \u001b[0;32mIn[38], line 1\u001b[0m\n\u001b[0;32m----> 1\u001b[0m \u001b[43md6\u001b[49m\u001b[43m \u001b[49m\u001b[38;5;241;43m+\u001b[39;49m\u001b[43m \u001b[49m\u001b[43md5\u001b[49m \n",
      "\u001b[0;31mTypeError\u001b[0m: unsupported operand type(s) for +: 'dict' and 'dict'"
     ]
    }
   ],
   "source": [
    "d6 + d5 "
   ]
  },
  {
   "cell_type": "code",
   "execution_count": 56,
   "id": "c3053189-aea4-463d-b5b0-f1d3a29976d7",
   "metadata": {},
   "outputs": [],
   "source": [
    "del d6[\"assignment \"]"
   ]
  },
  {
   "cell_type": "code",
   "execution_count": 58,
   "id": "20092778-3c6f-4119-bcaf-a5c33a148097",
   "metadata": {},
   "outputs": [
    {
     "data": {
      "text/plain": [
       "{' number ': [24, 43, 43, 435, 53, 536], 'lanuch date': {24, 53, 56}}"
      ]
     },
     "execution_count": 58,
     "metadata": {},
     "output_type": "execute_result"
    }
   ],
   "source": [
    "d6"
   ]
  },
  {
   "cell_type": "code",
   "execution_count": 59,
   "id": "cc27aef9-b8df-42af-b631-4e9ab033e2e4",
   "metadata": {},
   "outputs": [
    {
     "data": {
      "text/plain": [
       "[' number ', 'lanuch date']"
      ]
     },
     "execution_count": 59,
     "metadata": {},
     "output_type": "execute_result"
    }
   ],
   "source": [
    "list(d6.keys())"
   ]
  },
  {
   "cell_type": "code",
   "execution_count": 60,
   "id": "2a0145f4-3827-4ca5-8bd5-5ba9b7f92149",
   "metadata": {},
   "outputs": [
    {
     "data": {
      "text/plain": [
       "[[24, 43, 43, 435, 53, 536], {24, 53, 56}]"
      ]
     },
     "execution_count": 60,
     "metadata": {},
     "output_type": "execute_result"
    }
   ],
   "source": [
    "list(d6.values())"
   ]
  },
  {
   "cell_type": "code",
   "execution_count": 63,
   "id": "ac26749b-627c-4d81-864a-cdb4667dc666",
   "metadata": {},
   "outputs": [
    {
     "data": {
      "text/plain": [
       "[(' number ', [24, 43, 43, 435, 53, 536]), ('lanuch date', {24, 53, 56})]"
      ]
     },
     "execution_count": 63,
     "metadata": {},
     "output_type": "execute_result"
    }
   ],
   "source": [
    "list(d6.items())"
   ]
  },
  {
   "cell_type": "code",
   "execution_count": 64,
   "id": "aa56b455-e3b4-4212-bcaf-1e9438f84951",
   "metadata": {},
   "outputs": [
    {
     "data": {
      "text/plain": [
       "dict_keys([' number ', 'lanuch date'])"
      ]
     },
     "execution_count": 64,
     "metadata": {},
     "output_type": "execute_result"
    }
   ],
   "source": [
    "d6.keys()"
   ]
  },
  {
   "cell_type": "code",
   "execution_count": 72,
   "id": "8e037998-da8f-428d-952b-6851763fb739",
   "metadata": {},
   "outputs": [
    {
     "data": {
      "text/plain": [
       "[24, 43, 43, 435, 53, 536]"
      ]
     },
     "execution_count": 72,
     "metadata": {},
     "output_type": "execute_result"
    }
   ],
   "source": [
    "d6.pop(' number ')"
   ]
  },
  {
   "cell_type": "code",
   "execution_count": null,
   "id": "86c43eb8-0ef5-41d6-941c-56d3f861e041",
   "metadata": {},
   "outputs": [],
   "source": [
    "                                #conditional#"
   ]
  },
  {
   "cell_type": "code",
   "execution_count": null,
   "id": "98e775d3-83f6-4da9-8b9d-44feaca6c1a9",
   "metadata": {},
   "outputs": [],
   "source": [
    "# if elif statement  or if eles "
   ]
  },
  {
   "cell_type": "code",
   "execution_count": 96,
   "id": "5d4176ad-7741-40b1-9292-d751221034bb",
   "metadata": {},
   "outputs": [
    {
     "name": "stdin",
     "output_type": "stream",
     "text": [
      "Enter your marks 45\n"
     ]
    },
    {
     "ename": "TypeError",
     "evalue": "'>=' not supported between instances of 'str' and 'int'",
     "output_type": "error",
     "traceback": [
      "\u001b[0;31m---------------------------------------------------------------------------\u001b[0m",
      "\u001b[0;31mTypeError\u001b[0m                                 Traceback (most recent call last)",
      "Cell \u001b[0;32mIn[96], line 2\u001b[0m\n\u001b[1;32m      1\u001b[0m marks \u001b[38;5;241m=\u001b[39m \u001b[38;5;28minput\u001b[39m(\u001b[38;5;124m\"\u001b[39m\u001b[38;5;124mEnter your marks\u001b[39m\u001b[38;5;124m\"\u001b[39m)\n\u001b[0;32m----> 2\u001b[0m \u001b[38;5;28;01mif\u001b[39;00m \u001b[43mmarks\u001b[49m\u001b[43m \u001b[49m\u001b[38;5;241;43m>\u001b[39;49m\u001b[38;5;241;43m=\u001b[39;49m\u001b[38;5;241;43m80\u001b[39;49m:\n\u001b[1;32m      3\u001b[0m     \u001b[38;5;28mprint\u001b[39m(\u001b[38;5;124m\"\u001b[39m\u001b[38;5;124myou will be a part of A0 batch\u001b[39m\u001b[38;5;124m\"\u001b[39m)\n\u001b[1;32m      5\u001b[0m \u001b[38;5;28;01melif\u001b[39;00m marks \u001b[38;5;241m>\u001b[39m\u001b[38;5;241m=\u001b[39m\u001b[38;5;241m60\u001b[39m \u001b[38;5;129;01mand\u001b[39;00m marks \u001b[38;5;241m<\u001b[39m\u001b[38;5;241m80\u001b[39m: \u001b[38;5;66;03m# and  = &\u001b[39;00m\n",
      "\u001b[0;31mTypeError\u001b[0m: '>=' not supported between instances of 'str' and 'int'"
     ]
    }
   ],
   "source": [
    "marks = input(\"Enter your marks\")\n",
    "if marks >=80:\n",
    "    print(\"you will be a part of A0 batch\")\n",
    "    \n",
    "elif marks >=60 and marks <80: # and  = &\n",
    "     print(\"you will be part of A1 batch\")   \n",
    "        \n",
    "elif marks >=40 & marks <60:\n",
    "     print(\"you will be a part of A2 batch\")\n",
    "        \n",
    "else :\n",
    "      print(\"you will be a part of A3 batch\")\n",
    "        "
   ]
  },
  {
   "cell_type": "code",
   "execution_count": 99,
   "id": "f101afa2-f0de-48ff-ba63-896bac835c4d",
   "metadata": {},
   "outputs": [
    {
     "name": "stdin",
     "output_type": "stream",
     "text": [
      "Enter your marks 45\n"
     ]
    }
   ],
   "source": [
    "marks = int(input(\"Enter your marks\")) #type casting  '>=' not supported between instances of 'str' and 'int'\n"
   ]
  },
  {
   "cell_type": "code",
   "execution_count": 100,
   "id": "b17df137-7e7a-4f1a-87dd-ae4447a57432",
   "metadata": {},
   "outputs": [
    {
     "data": {
      "text/plain": [
       "int"
      ]
     },
     "execution_count": 100,
     "metadata": {},
     "output_type": "execute_result"
    }
   ],
   "source": [
    "type(marks)"
   ]
  },
  {
   "cell_type": "code",
   "execution_count": 103,
   "id": "9283518a-be81-4ebd-8a94-c1f8539096dc",
   "metadata": {},
   "outputs": [
    {
     "name": "stdin",
     "output_type": "stream",
     "text": [
      "Enter your marks -564\n"
     ]
    },
    {
     "name": "stdout",
     "output_type": "stream",
     "text": [
      "you will be a part of A3 batch\n"
     ]
    }
   ],
   "source": [
    "marks = int(input(\"Enter your marks\"))\n",
    "if marks >=80:\n",
    "    print(\"you will be a part of A0 batch\")\n",
    "    \n",
    "elif marks >=60 and marks <80: # and  = &\n",
    "     print(\"you will be part of A1 batch\")   \n",
    "        \n",
    "elif marks >=40 & marks <60:\n",
    "     print(\"you will be a part of A2 batch\")\n",
    "        \n",
    "else :\n",
    "      print(\"you will be a part of A3 batch\")\n",
    "        "
   ]
  },
  {
   "cell_type": "code",
   "execution_count": null,
   "id": "3e6e282a-f38e-4d30-a071-5ada0ce2ae87",
   "metadata": {},
   "outputs": [],
   "source": []
  },
  {
   "cell_type": "code",
   "execution_count": 118,
   "id": "08dca069-4a9d-40c4-9dc3-cdaf591904f6",
   "metadata": {},
   "outputs": [
    {
     "name": "stdin",
     "output_type": "stream",
     "text": [
      "Enter price 488\n"
     ]
    },
    {
     "ename": "NameError",
     "evalue": "name 'printprint' is not defined",
     "output_type": "error",
     "traceback": [
      "\u001b[0;31m---------------------------------------------------------------------------\u001b[0m",
      "\u001b[0;31mNameError\u001b[0m                                 Traceback (most recent call last)",
      "Cell \u001b[0;32mIn[118], line 5\u001b[0m\n\u001b[1;32m      3\u001b[0m      \u001b[38;5;28mprint\u001b[39m(\u001b[38;5;124m'\u001b[39m\u001b[38;5;124mpurachase\u001b[39m\u001b[38;5;124m'\u001b[39m)\n\u001b[1;32m      4\u001b[0m \u001b[38;5;28;01melse\u001b[39;00m:\n\u001b[0;32m----> 5\u001b[0m      \u001b[43mprintprint\u001b[49m(\u001b[38;5;28mstr\u001b[39m(\u001b[38;5;124m\"\u001b[39m\u001b[38;5;124mi will not purachase\u001b[39m\u001b[38;5;124m\"\u001b[39m))\n",
      "\u001b[0;31mNameError\u001b[0m: name 'printprint' is not defined"
     ]
    }
   ],
   "source": [
    "price = int(input(\"Enter price\"))\n",
    "if price > 1000:\n",
    "     print('purachase')\n",
    "else:\n",
    "     prom(\"i will not purachase\")"
   ]
  },
  {
   "cell_type": "code",
   "execution_count": 111,
   "id": "a43b104e-3c62-48fe-b912-a4bb5ab7db8e",
   "metadata": {},
   "outputs": [
    {
     "name": "stdin",
     "output_type": "stream",
     "text": [
      "Enter price 456\n"
     ]
    }
   ],
   "source": [
    "price = int(input(\"Enter price\"))\n",
    "if price > 1000:\n",
    "    print(\"i will not purchase\")\n",
    "elif price > 5000 :\n",
    "     print(\"this is too much\")\n",
    "else : \n",
    "    print(it's okay\"\n",
    "        "
   ]
  },
  {
   "cell_type": "code",
   "execution_count": null,
   "id": "29714888-3442-4d78-be4c-eec7e6d577f0",
   "metadata": {},
   "outputs": [],
   "source": []
  }
 ],
 "metadata": {
  "kernelspec": {
   "display_name": "Python 3 (ipykernel)",
   "language": "python",
   "name": "python3"
  },
  "language_info": {
   "codemirror_mode": {
    "name": "ipython",
    "version": 3
   },
   "file_extension": ".py",
   "mimetype": "text/x-python",
   "name": "python",
   "nbconvert_exporter": "python",
   "pygments_lexer": "ipython3",
   "version": "3.10.8"
  }
 },
 "nbformat": 4,
 "nbformat_minor": 5
}
